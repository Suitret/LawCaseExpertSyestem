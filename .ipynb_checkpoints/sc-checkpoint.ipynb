{
 "cells": [
  {
   "cell_type": "code",
   "execution_count": 32,
   "metadata": {},
   "outputs": [],
   "source": [
    "#pip install ipywidgets matplotlib\n"
   ]
  },
  {
   "cell_type": "code",
   "execution_count": 33,
   "metadata": {},
   "outputs": [],
   "source": [
    "from sentence_transformers import SentenceTransformer, util\n",
    "import numpy as np\n",
    "#import spacy\n",
    "\n",
    "import json\n",
    "import pickle\n",
    "\n",
    "\n",
    "model = SentenceTransformer(\"all-MiniLM-L6-v2\")"
   ]
  },
  {
   "cell_type": "markdown",
   "metadata": {},
   "source": [
    "### Extraction of cases"
   ]
  },
  {
   "cell_type": "code",
   "execution_count": 34,
   "metadata": {},
   "outputs": [],
   "source": [
    "\n",
    "with open(\"output_file_1.txt\", 'r') as f:\n",
    "    lines = f.readlines()\n",
    "    "
   ]
  },
  {
   "cell_type": "code",
   "execution_count": 35,
   "metadata": {},
   "outputs": [
    {
     "data": {
      "text/plain": [
       "{'id': 1869772,\n",
       " 'url': 'https://api.capapi.org/v1/cases/1869772/',\n",
       " 'name': 'James Joseph STANDLEY, Jr. v. STATE of Arkansas',\n",
       " 'name_abbreviation': 'Standley v. State',\n",
       " 'decision_date': '1987-11-09',\n",
       " 'docket_number': '',\n",
       " 'first_page': '517',\n",
       " 'last_page': '518',\n",
       " 'citations': [{'cite': '293 Ark. 517', 'type': 'official'},\n",
       "  {'cite': '738 S.W.2d 423', 'type': 'parallel'}],\n",
       " 'volume': {'volume_number': '293',\n",
       "  'barcode': '32044078577145',\n",
       "  'url': 'https://api.capapi.org/v1/volumes/32044078577145/'},\n",
       " 'reporter': {'id': 368,\n",
       "  'full_name': 'Arkansas Reports',\n",
       "  'url': 'https://api.capapi.org/v1/reporters/368/'},\n",
       " 'court': {'name_abbreviation': 'Ark.',\n",
       "  'name': 'Arkansas Supreme Court',\n",
       "  'id': 8808,\n",
       "  'slug': 'ark',\n",
       "  'url': 'https://api.capapi.org/v1/courts/ark/'},\n",
       " 'jurisdiction': {'name': 'Ark.',\n",
       "  'id': 34,\n",
       "  'slug': 'ark',\n",
       "  'name_long': 'Arkansas',\n",
       "  'url': 'https://api.capapi.org/v1/jurisdictions/ark/',\n",
       "  'whitelisted': True},\n",
       " 'cites_to': [{'cite': '738 S.W.2d 423'}],\n",
       " 'frontend_url': 'https://cite.capapi.org/ark/293/517/',\n",
       " 'preview': [],\n",
       " 'casebody': {'status': 'ok',\n",
       "  'data': {'judges': [],\n",
       "   'head_matter': 'James Joseph STANDLEY, Jr. v. STATE of Arkansas\\n738 S.W.2d 423\\nSupreme Court of Arkansas\\nOpinion delivered November 9, 1987\\nBilly J. Allred, for appellant.\\nNo response.',\n",
       "   'corrections': '',\n",
       "   'opinions': [{'text': 'Per Curiam.\\nAppellant, James Joseph Standley, Jr., by his attorney, has filed for a rule on the clerk. His attorney, Billy J. Allred, admits that the record was tendered late due to a mistake on his part.\\nWe find that such error, admittedly made by the attorney for a criminal defendant, is good cause to grant the motion. See our Per Curiam opinion dated February 5, 1979, In Re: Belated Appeals in Criminal Cases.\\nA copy of this opinion will be forwarded to the Committee on Professional Conduct.',\n",
       "     'author': 'Per Curiam.',\n",
       "     'type': 'majority'}],\n",
       "   'attorneys': ['Billy J. Allred, for appellant.', 'No response.']}}}"
      ]
     },
     "execution_count": 35,
     "metadata": {},
     "output_type": "execute_result"
    }
   ],
   "source": [
    "\n",
    "\n",
    "# Extract JSON data from the first line\n",
    "first_line_json = json.loads(lines[0])\n",
    "first_line_json\n"
   ]
  },
  {
   "cell_type": "code",
   "execution_count": 36,
   "metadata": {},
   "outputs": [],
   "source": [
    "\n",
    "ls_cases=[]\n",
    "f=open(\"output_file_1.txt\", 'r')\n",
    "    \n",
    "# Extract opinions from subsequent lines\n",
    "#for line in f.readlines():\n",
    "    #print(line)\n",
    "    #data = json.loads(line)\n",
    "    #if(len(data['casebody']['data']['opinions']) > 0):\n",
    "    #    ls_cases.append(data['casebody']['data']['opinions'][0]['text'])\n",
    "    \n",
    "for k in f.readlines():\n",
    "    # display({mkeys[n]:kk for n,kk in enumerate(json.loads(k)['casebody']['data']['opinions'][0]['text'].split(\" In Re:\"))}['case'])\n",
    "    if (len(json.loads(k)['casebody']['data']['opinions'])>0):\n",
    "        # print(json.loads(k)['casebody']['data']['opinions'][0]['text'])\n",
    "        ls_cases.append(json.loads(k)['casebody']['data']['opinions'][0]['text'])\n",
    "    # print('-----')   \n"
   ]
  },
  {
   "cell_type": "markdown",
   "metadata": {},
   "source": [
    "### Tokenization"
   ]
  },
  {
   "cell_type": "code",
   "execution_count": 37,
   "metadata": {},
   "outputs": [],
   "source": [
    "#nlp=spacy.load(\"en_core_web_sm\")"
   ]
  },
  {
   "cell_type": "code",
   "execution_count": 38,
   "metadata": {},
   "outputs": [],
   "source": [
    "# ls_tokens=[]\n",
    "# for f in ls_cases:\n",
    "#     doc=nlp(f)\n",
    "#     for token in doc:\n",
    "#         # print(token.lemma_)\n",
    "#         if (token.lemma_ not in ls_tokens):\n",
    "#             ls_tokens.append(token.lemma_)"
   ]
  },
  {
   "cell_type": "code",
   "execution_count": 39,
   "metadata": {
    "scrolled": false
   },
   "outputs": [],
   "source": [
    "#ls_cases"
   ]
  },
  {
   "cell_type": "markdown",
   "metadata": {},
   "source": [
    "### Encodage of cases"
   ]
  },
  {
   "cell_type": "code",
   "execution_count": 51,
   "metadata": {
    "scrolled": false
   },
   "outputs": [],
   "source": [
    "dict_emb_cases={}\n",
    "for n,f in enumerate(ls_cases):\n",
    "    dict_emb_cases[n]=model.encode(f)"
   ]
  },
  {
   "cell_type": "code",
   "execution_count": 53,
   "metadata": {},
   "outputs": [],
   "source": [
    "\n",
    "#dict_emb_cases"
   ]
  },
  {
   "cell_type": "code",
   "execution_count": 45,
   "metadata": {},
   "outputs": [],
   "source": [
    "\n",
    "#dict_emb_cases={}\n",
    "\n",
    "rs=open(\"backup_embs.pck\",\"wb\")\n",
    "pickle.dump(dict_emb_cases,rs)\n",
    "rs.close()\n"
   ]
  },
  {
   "cell_type": "code",
   "execution_count": 49,
   "metadata": {
    "scrolled": false
   },
   "outputs": [
    {
     "data": {
      "text/plain": [
       "{}"
      ]
     },
     "execution_count": 49,
     "metadata": {},
     "output_type": "execute_result"
    }
   ],
   "source": [
    "#dict_emb_cases"
   ]
  },
  {
   "cell_type": "markdown",
   "metadata": {},
   "source": [
    "### Function to check the similarity"
   ]
  },
  {
   "cell_type": "code",
   "execution_count": 54,
   "metadata": {},
   "outputs": [],
   "source": [
    "\n",
    "def checkSimCases(_new_Case='', _dict_emb_cases={}, _threshold=0.1):\n",
    "    emb_new_case=model.encode(_new_Case)\n",
    "    ls_cos_sim=[]\n",
    "    for f in _dict_emb_cases.keys():\n",
    "        ls_cos_sim.append(util.cos_sim(emb_new_case,_dict_emb_cases[f]).item())\n",
    "    \n",
    "    # print(ls_cos_sim)\n",
    "    sim_cases=[]\n",
    "    for n,f in enumerate(ls_cos_sim):\n",
    "        if (f>=_threshold):\n",
    "           sim_cases.append(n)\n",
    "           \n",
    "    return sim_cases\n",
    "        "
   ]
  },
  {
   "cell_type": "markdown",
   "metadata": {},
   "source": [
    "### Test for a new case"
   ]
  },
  {
   "cell_type": "code",
   "execution_count": 55,
   "metadata": {},
   "outputs": [],
   "source": [
    "\n",
    "#new_case=\"In the case of State v. Johnson, the defendant, Mr. Mark Johnson, was charged with first-degree rape following an incident that occurred on May 15, 2023. The prosecution presented evidence indicating that Mr. Johnson forcibly assaulted and raped the victim, Ms. Emily Davis, in her apartment after breaking in during the late hours of the night. The defense argued that there was insufficient evidence to prove Mr. Johnson's guilt beyond a reasonable doubt, contending that the encounter was consensual. After a thorough trial, the jury found Mr. Johnson guilty of first-degree rape, and he was sentenced to twenty-five years in prison.\"\n"
   ]
  },
  {
   "cell_type": "code",
   "execution_count": 63,
   "metadata": {
    "scrolled": false
   },
   "outputs": [],
   "source": [
    "\n",
    "#ls_sim_cases = checkSimCases(_new_Case=new_case, _dict_emb_cases=dict_emb_cases, _threshold=0.75)\n",
    "#selected_cases = [ls_cases[i] for i in ls_sim_cases]\n",
    "#for case in selected_cases:\n",
    "#    print(case)\n"
   ]
  },
  {
   "cell_type": "code",
   "execution_count": null,
   "metadata": {},
   "outputs": [],
   "source": []
  },
  {
   "cell_type": "raw",
   "metadata": {},
   "source": [
    "# Graphical Interface"
   ]
  },
  {
   "cell_type": "code",
   "execution_count": 64,
   "metadata": {},
   "outputs": [
    {
     "data": {
      "application/vnd.jupyter.widget-view+json": {
       "model_id": "8a622c44afc245c59a80122a9c337de5",
       "version_major": 2,
       "version_minor": 0
      },
      "text/plain": [
       "Text(value='', description='New Case:')"
      ]
     },
     "metadata": {},
     "output_type": "display_data"
    },
    {
     "data": {
      "application/vnd.jupyter.widget-view+json": {
       "model_id": "c3a25fc176d0499f9500aab63b997954",
       "version_major": 2,
       "version_minor": 0
      },
      "text/plain": [
       "FloatSlider(value=0.54, description='Threshold:', max=1.0, step=0.01)"
      ]
     },
     "metadata": {},
     "output_type": "display_data"
    },
    {
     "data": {
      "application/vnd.jupyter.widget-view+json": {
       "model_id": "ff3252122f7f4c8f825f3c4e436cea50",
       "version_major": 2,
       "version_minor": 0
      },
      "text/plain": [
       "Button(description='Submit', style=ButtonStyle())"
      ]
     },
     "metadata": {},
     "output_type": "display_data"
    },
    {
     "data": {
      "application/vnd.jupyter.widget-view+json": {
       "model_id": "23d87b6bfabc45f48f561601a654ce26",
       "version_major": 2,
       "version_minor": 0
      },
      "text/plain": [
       "Output()"
      ]
     },
     "metadata": {},
     "output_type": "display_data"
    }
   ],
   "source": [
    "import ipywidgets as widgets\n",
    "from IPython.display import display, clear_output\n",
    "import matplotlib.pyplot as plt\n",
    "import numpy as np\n",
    "\n",
    "\n",
    "# Define widgets\n",
    "new_case_text = widgets.Text(description='New Case:')\n",
    "threshold_slider = widgets.FloatSlider(value=0.5, min=0, max=1, step=0.01, description='Threshold:')\n",
    "submit_button = widgets.Button(description='Submit')\n",
    "output_text = widgets.Output()\n",
    "\n",
    "# Define event handlers\n",
    "def submit_button_clicked(b):\n",
    "    with output_text:\n",
    "        clear_output(wait=True)  # Clear previous output\n",
    "        new_case = new_case_text.value\n",
    "        threshold = threshold_slider.value\n",
    "        ls_sim_cases = checkSimCases(new_case, dict_emb_cases, threshold)\n",
    "        selected_cases = [ls_cases[i] for i in ls_sim_cases]\n",
    "        if selected_cases:\n",
    "            print(\"Similar Cases:\")\n",
    "            for case in selected_cases:\n",
    "                print(case)\n",
    "        else:\n",
    "            print(\"No similar cases found.\")\n",
    "\n",
    "\n",
    "# Assign event handlers to widgets\n",
    "submit_button.on_click(submit_button_clicked)\n",
    "\n",
    "# Display widgets\n",
    "display(new_case_text)\n",
    "display(threshold_slider)\n",
    "display(submit_button)\n",
    "display(output_text)\n"
   ]
  },
  {
   "cell_type": "code",
   "execution_count": null,
   "metadata": {},
   "outputs": [],
   "source": []
  }
 ],
 "metadata": {
  "kernelspec": {
   "display_name": "Python 3",
   "language": "python",
   "name": "python3"
  },
  "language_info": {
   "codemirror_mode": {
    "name": "ipython",
    "version": 3
   },
   "file_extension": ".py",
   "mimetype": "text/x-python",
   "name": "python",
   "nbconvert_exporter": "python",
   "pygments_lexer": "ipython3",
   "version": "3.8.10"
  }
 },
 "nbformat": 4,
 "nbformat_minor": 2
}
